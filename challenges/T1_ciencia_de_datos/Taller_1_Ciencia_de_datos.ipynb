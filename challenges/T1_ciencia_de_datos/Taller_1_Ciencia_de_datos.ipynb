{
  "cells": [
    {
      "cell_type": "markdown",
      "metadata": {
        "id": "s4zoHACK_ZWv"
      },
      "source": [
        "# Ciencia de Datos para Biología\n",
        "## Introducción a Python\n",
        "### Taller # 1"
      ]
    },
    {
      "cell_type": "markdown",
      "metadata": {
        "id": "JQAaBnTrAS1P"
      },
      "source": [
        "### Operaciones Aritméticas"
      ]
    },
    {
      "cell_type": "markdown",
      "metadata": {
        "id": "TaR-uGR3BHqG"
      },
      "source": [
        "Importa las librerías que requieres para completar esta sección del taller"
      ]
    },
    {
      "cell_type": "code",
      "execution_count": null,
      "metadata": {
        "id": "Jrrb61-WBGnq"
      },
      "outputs": [],
      "source": []
    },
    {
      "cell_type": "markdown",
      "metadata": {
        "id": "1_EzEDB9AEvU"
      },
      "source": [
        "¿Cuanto es 7 elevado a la 10?"
      ]
    },
    {
      "cell_type": "code",
      "execution_count": null,
      "metadata": {
        "colab": {
          "base_uri": "https://localhost:8080/"
        },
        "id": "K3jaUeoS_ioy",
        "outputId": "2aab6e04-d11a-41e3-8079-492534c73f15"
      },
      "outputs": [
        {
          "data": {
            "text/plain": [
              "282475249"
            ]
          },
          "execution_count": 1,
          "metadata": {},
          "output_type": "execute_result"
        }
      ],
      "source": []
    },
    {
      "cell_type": "markdown",
      "metadata": {
        "id": "Q5L5exlBAaT9"
      },
      "source": [
        "¿Cuál es el logaritmo en base 10 de 10.000?"
      ]
    },
    {
      "cell_type": "code",
      "execution_count": null,
      "metadata": {
        "colab": {
          "base_uri": "https://localhost:8080/"
        },
        "id": "F5757_goAXBl",
        "outputId": "779bde45-3138-4da9-fd38-a013ca2fe487"
      },
      "outputs": [
        {
          "data": {
            "text/plain": [
              "4.0"
            ]
          },
          "execution_count": 9,
          "metadata": {},
          "output_type": "execute_result"
        }
      ],
      "source": []
    },
    {
      "cell_type": "markdown",
      "metadata": {
        "id": "bu4YIW8qAqWa"
      },
      "source": [
        "¿Cuál es el seno de $\\frac{π}{2}$?"
      ]
    },
    {
      "cell_type": "code",
      "execution_count": null,
      "metadata": {
        "colab": {
          "base_uri": "https://localhost:8080/"
        },
        "id": "JAtl7d4KAnEL",
        "outputId": "95c7bbda-175f-4703-ef9c-212e6a87df58"
      },
      "outputs": [
        {
          "data": {
            "text/plain": [
              "1.0"
            ]
          },
          "execution_count": 10,
          "metadata": {},
          "output_type": "execute_result"
        }
      ],
      "source": []
    },
    {
      "cell_type": "markdown",
      "metadata": {
        "id": "kdfQOaroBh2s"
      },
      "source": [
        "Crea un **array** de los números enteros del 13 al 20"
      ]
    },
    {
      "cell_type": "code",
      "execution_count": null,
      "metadata": {
        "colab": {
          "base_uri": "https://localhost:8080/"
        },
        "id": "tSI8oNMRBUUz",
        "outputId": "978cadb5-99e2-495c-9df2-0a7bd45dd362"
      },
      "outputs": [
        {
          "data": {
            "text/plain": [
              "array([13, 14, 15, 16, 17, 18, 19, 20])"
            ]
          },
          "execution_count": 13,
          "metadata": {},
          "output_type": "execute_result"
        }
      ],
      "source": []
    },
    {
      "cell_type": "markdown",
      "metadata": {
        "id": "F35uISVeB07Y"
      },
      "source": [
        "Múltiplica todos los números del array que creaste por 10"
      ]
    },
    {
      "cell_type": "code",
      "execution_count": null,
      "metadata": {
        "colab": {
          "base_uri": "https://localhost:8080/"
        },
        "id": "EluSOG8vByjy",
        "outputId": "467edc57-d6de-4897-d6d0-cf95b73d0029"
      },
      "outputs": [
        {
          "data": {
            "text/plain": [
              "array([130, 140, 150, 160, 170, 180, 190, 200])"
            ]
          },
          "execution_count": 14,
          "metadata": {},
          "output_type": "execute_result"
        }
      ],
      "source": []
    },
    {
      "cell_type": "markdown",
      "metadata": {
        "id": "5qX9_pAMCCjM"
      },
      "source": [
        "### **Strings**"
      ]
    },
    {
      "cell_type": "markdown",
      "metadata": {
        "id": "BTMSGxprCMG2"
      },
      "source": [
        "Declara la expresión:\n",
        "> estoy programando en python\n",
        "\n",
        "en forma de ***String***"
      ]
    },
    {
      "cell_type": "code",
      "execution_count": null,
      "metadata": {},
      "outputs": [],
      "source": []
    },
    {
      "cell_type": "markdown",
      "metadata": {
        "id": "-xT0owWqCeSb"
      },
      "source": [
        "Asigna el ***string*** anterior a una variable"
      ]
    },
    {
      "cell_type": "code",
      "execution_count": null,
      "metadata": {
        "id": "t0aFkIzYCZH7"
      },
      "outputs": [],
      "source": []
    },
    {
      "cell_type": "markdown",
      "metadata": {
        "id": "j3ivQ17dCnC2"
      },
      "source": [
        "Separa el ***string***:\n",
        ">estoy programando en python\n",
        "\n",
        "en las palabras que lo componen"
      ]
    },
    {
      "cell_type": "code",
      "execution_count": null,
      "metadata": {
        "colab": {
          "base_uri": "https://localhost:8080/"
        },
        "id": "Zi4is6FBCmUw",
        "outputId": "34d698cd-bf18-48e2-a296-4aa7b3fc6dc1"
      },
      "outputs": [
        {
          "data": {
            "text/plain": [
              "['estoy', 'programando', 'en', 'python']"
            ]
          },
          "execution_count": 16,
          "metadata": {},
          "output_type": "execute_result"
        }
      ],
      "source": []
    },
    {
      "cell_type": "markdown",
      "metadata": {
        "id": "VsoFFxcDC75f"
      },
      "source": [
        "Separa el **string**:\n",
        ">Bacteria/Pseudomonadota/Gammaproteobacteria/Enterobacterales/Enterobacteriaceae/Escherichia/E. coli\n",
        "\n",
        "por el uso de \"/\""
      ]
    },
    {
      "cell_type": "code",
      "execution_count": null,
      "metadata": {
        "colab": {
          "base_uri": "https://localhost:8080/"
        },
        "id": "aTPBA_1xC59B",
        "outputId": "7d8848a0-0e2f-4245-df0a-8c801a1833e5"
      },
      "outputs": [
        {
          "data": {
            "text/plain": [
              "['Bacteria',\n",
              " 'Pseudomonadota',\n",
              " 'Gammaproteobacteria',\n",
              " 'Enterobacterales',\n",
              " 'Enterobacteriaceae',\n",
              " 'Escherichia',\n",
              " 'E. coli']"
            ]
          },
          "execution_count": 17,
          "metadata": {},
          "output_type": "execute_result"
        }
      ],
      "source": []
    },
    {
      "cell_type": "markdown",
      "metadata": {
        "id": "3HJ758H3DghX"
      },
      "source": [
        "Convierte todas las letras del **string**\n",
        ">\"me gusta python\"\n",
        "\n",
        "a mayúsculas"
      ]
    },
    {
      "cell_type": "code",
      "execution_count": null,
      "metadata": {
        "colab": {
          "base_uri": "https://localhost:8080/",
          "height": 35
        },
        "id": "BxFuw-4mDaaD",
        "outputId": "b5c22174-4487-4e09-9fb0-29c9f19c0f3f"
      },
      "outputs": [
        {
          "data": {
            "application/vnd.google.colaboratory.intrinsic+json": {
              "type": "string"
            },
            "text/plain": [
              "'ME GUSTA PYTHON'"
            ]
          },
          "execution_count": 18,
          "metadata": {},
          "output_type": "execute_result"
        }
      ],
      "source": []
    },
    {
      "cell_type": "markdown",
      "metadata": {
        "id": "xXAlDnZlDywn"
      },
      "source": [
        "Convierte a mayúsculas solo la primera letra de cada palabra del ***string***\n",
        ">\"me gusta python\""
      ]
    },
    {
      "cell_type": "code",
      "execution_count": null,
      "metadata": {
        "colab": {
          "base_uri": "https://localhost:8080/",
          "height": 35
        },
        "id": "UnDwIwrIDxWE",
        "outputId": "e6bddb6f-217b-4c3e-ccb7-6b8e1c3698af"
      },
      "outputs": [
        {
          "data": {
            "application/vnd.google.colaboratory.intrinsic+json": {
              "type": "string"
            },
            "text/plain": [
              "'Me Gusta Python'"
            ]
          },
          "execution_count": 20,
          "metadata": {},
          "output_type": "execute_result"
        }
      ],
      "source": []
    },
    {
      "cell_type": "markdown",
      "metadata": {
        "id": "ANIqu3kdH-Ib"
      },
      "source": [
        "Remplaza \"/\" en el ***string***\n",
        ">\" Dominio/Filo/Clase/Orden/Familia/Genero/Especie/\"\n",
        "\n",
        "por \" \\n \", luego imprimelo"
      ]
    },
    {
      "cell_type": "code",
      "execution_count": null,
      "metadata": {
        "colab": {
          "base_uri": "https://localhost:8080/"
        },
        "id": "RQ65wN_6IXpB",
        "outputId": "70715ce3-759c-4735-9b1b-f512f9e9719f"
      },
      "outputs": [
        {
          "name": "stdout",
          "output_type": "stream",
          "text": [
            "Dominio\n",
            "Filo\n",
            "Clase\n",
            "Orden\n",
            "Familia\n",
            "Genero\n",
            "Especie\n",
            "\n"
          ]
        }
      ],
      "source": []
    },
    {
      "cell_type": "markdown",
      "metadata": {
        "id": "Wqg9ALynMia1"
      },
      "source": [
        "Empleando las variables:\n",
        "\n",
        "```\n",
        "planet = \"Tierra\"\n",
        "diameter = 12742\n",
        "```\n",
        "\n",
        "Use ***.format()*** para imprimir el siguiente ***string***:\n",
        "\n",
        "\n",
        "```\n",
        "\"El radio del planeta Tierra es 6,371 kilometros\"\n",
        "```"
      ]
    },
    {
      "cell_type": "code",
      "execution_count": null,
      "metadata": {
        "colab": {
          "base_uri": "https://localhost:8080/",
          "height": 35
        },
        "id": "gOpeNIf1MhiX",
        "outputId": "63d08281-f1f0-40ba-f9fc-08ebe5ac3324"
      },
      "outputs": [
        {
          "data": {
            "application/vnd.google.colaboratory.intrinsic+json": {
              "type": "string"
            },
            "text/plain": [
              "'El radio del planeta Tierra es 6371.0 kilometros'"
            ]
          },
          "execution_count": 23,
          "metadata": {},
          "output_type": "execute_result"
        }
      ],
      "source": []
    },
    {
      "cell_type": "markdown",
      "metadata": {
        "id": "OokmpGwkEJWY"
      },
      "source": [
        "Dado el ***string***:\n",
        "\n",
        "```\n",
        "\"Bacteria/Pseudomonadota/Gammaproteobacteria/Enterobacterales/Enterobacteriaceae/Escherichia/E. coli\"\n",
        "```\n",
        "\n",
        "Usa ***.format()*** para imprimir el sigueinte ***string***:\n",
        "\n",
        "\n",
        "```\n",
        "Dominio: Bacteria\n",
        "Filo: Pseudomonadota\n",
        "Clase: Gammaproteobacteria\n",
        "Orden: Enterobacterales\n",
        "Familia: Enterobacteriaceae\n",
        "Genero: Escherichia\n",
        "Especie: E. coli\n",
        "```"
      ]
    },
    {
      "cell_type": "code",
      "execution_count": null,
      "metadata": {
        "colab": {
          "base_uri": "https://localhost:8080/"
        },
        "id": "Wpn54B29n00w",
        "outputId": "04f1dd48-7473-407e-a548-d9eefc6e7db0"
      },
      "outputs": [
        {
          "name": "stdout",
          "output_type": "stream",
          "text": [
            "Dominio: Bacteria\n",
            "Filo: Pseudomonadota\n",
            "Clase: Gammaproteobacteria\n",
            "Orden: Enterobacterales\n",
            "Familia: Enterobacteriaceae\n",
            "Genero: Escherichia\n",
            "Especie: E. coli\n"
          ]
        }
      ],
      "source": [
        "\n"
      ]
    },
    {
      "cell_type": "markdown",
      "metadata": {
        "id": "c33HERUYXm_B"
      },
      "source": [
        "### Estructuras de Datos"
      ]
    },
    {
      "cell_type": "markdown",
      "metadata": {
        "id": "jWJL8ugqX9P5"
      },
      "source": [
        "Extrae la palabra \"mosca\" de la siguiente lista:\n",
        "\n",
        "\n",
        "```\n",
        "lst = [1 , 2, [3 , 4], [5, [100, 200, ['mosca']], 23, 11], 1, 7]\n",
        "```\n",
        "\n"
      ]
    },
    {
      "cell_type": "code",
      "execution_count": null,
      "metadata": {
        "colab": {
          "base_uri": "https://localhost:8080/",
          "height": 35
        },
        "id": "jzws8I8BGYd6",
        "outputId": "453fcdb5-5360-48ed-a353-2489230f57b4"
      },
      "outputs": [
        {
          "data": {
            "application/vnd.google.colaboratory.intrinsic+json": {
              "type": "string"
            },
            "text/plain": [
              "'mosca'"
            ]
          },
          "execution_count": 30,
          "metadata": {},
          "output_type": "execute_result"
        }
      ],
      "source": []
    },
    {
      "cell_type": "markdown",
      "metadata": {
        "id": "-P7m1I94Yjpf"
      },
      "source": [
        "Extrae la palabra \"sapo\" del siguiente diccionario:\n",
        "\n",
        "\n",
        "```\n",
        "dct = {'k1':[1, 2, 3, {'trampa': ['oh', 'hombre', 'inteligente', {'objetivo': [1, 2, 3, 'sapo']}]}]}\n",
        "```\n",
        "\n"
      ]
    },
    {
      "cell_type": "code",
      "execution_count": null,
      "metadata": {
        "colab": {
          "base_uri": "https://localhost:8080/",
          "height": 35
        },
        "id": "H039VhnjY1gK",
        "outputId": "42b33d8e-8a8f-4945-9ab9-e986f3991c3e"
      },
      "outputs": [
        {
          "data": {
            "application/vnd.google.colaboratory.intrinsic+json": {
              "type": "string"
            },
            "text/plain": [
              "'sapo'"
            ]
          },
          "execution_count": 32,
          "metadata": {},
          "output_type": "execute_result"
        }
      ],
      "source": []
    },
    {
      "cell_type": "markdown",
      "metadata": {
        "id": "jjGZAomuZBOa"
      },
      "source": [
        "### Funciones"
      ]
    },
    {
      "cell_type": "markdown",
      "metadata": {
        "id": "8Ao_UvcdZKmO"
      },
      "source": [
        "Escribe una función que extraiga el dominio de un correo de la forma:\n",
        "> usuario@domain.com\n",
        "\n",
        "Por ejemplo, si le pasamos \"ruben.vargas@gmail.com\", debería retornar \"gmail.com\"\n"
      ]
    },
    {
      "cell_type": "code",
      "execution_count": null,
      "metadata": {
        "id": "VdIA0GgYY3Xz"
      },
      "outputs": [],
      "source": []
    },
    {
      "cell_type": "code",
      "execution_count": null,
      "metadata": {
        "colab": {
          "base_uri": "https://localhost:8080/",
          "height": 35
        },
        "id": "BM6S4wlZceZd",
        "outputId": "0fcf6142-93ab-46e6-b9b3-9fbd0826861d"
      },
      "outputs": [
        {
          "data": {
            "application/vnd.google.colaboratory.intrinsic+json": {
              "type": "string"
            },
            "text/plain": [
              "'eafit.com.co'"
            ]
          },
          "execution_count": 34,
          "metadata": {},
          "output_type": "execute_result"
        }
      ],
      "source": []
    },
    {
      "cell_type": "markdown",
      "metadata": {
        "id": "DJZIhCVTcmtU"
      },
      "source": [
        "### Funciones, Condicionales y Bucles"
      ]
    },
    {
      "cell_type": "markdown",
      "metadata": {
        "id": "4QCk6MkectPO"
      },
      "source": [
        "Cree una función que retorna **True**, Si el ***string*** que se le ingresa contiene la palabra \"perro\" sin tomar en cuenta mayúsculas o minúsculas.\n",
        "\n",
        "\n",
        "\n",
        "\n"
      ]
    },
    {
      "cell_type": "code",
      "execution_count": null,
      "metadata": {
        "id": "MJuDhaQrchaA"
      },
      "outputs": [],
      "source": []
    },
    {
      "cell_type": "code",
      "execution_count": null,
      "metadata": {
        "colab": {
          "base_uri": "https://localhost:8080/"
        },
        "id": "wyuFLCund4Np",
        "outputId": "02d1c7d4-3a57-40a3-deba-afab1b33575d"
      },
      "outputs": [
        {
          "data": {
            "text/plain": [
              "True"
            ]
          },
          "execution_count": 36,
          "metadata": {},
          "output_type": "execute_result"
        }
      ],
      "source": []
    },
    {
      "cell_type": "code",
      "execution_count": null,
      "metadata": {
        "colab": {
          "base_uri": "https://localhost:8080/"
        },
        "id": "XuKiTqyVd8qi",
        "outputId": "a90bc3c8-6b46-4959-9f1c-17b66974a1b1"
      },
      "outputs": [
        {
          "data": {
            "text/plain": [
              "False"
            ]
          },
          "execution_count": 37,
          "metadata": {},
          "output_type": "execute_result"
        }
      ],
      "source": []
    },
    {
      "cell_type": "code",
      "execution_count": null,
      "metadata": {
        "colab": {
          "base_uri": "https://localhost:8080/"
        },
        "id": "q1Fni0PMd_3C",
        "outputId": "c3e6c1d5-ad33-44cb-95bd-2902a8d7dcad"
      },
      "outputs": [
        {
          "data": {
            "text/plain": [
              "True"
            ]
          },
          "execution_count": 38,
          "metadata": {},
          "output_type": "execute_result"
        }
      ],
      "source": []
    },
    {
      "cell_type": "markdown",
      "metadata": {
        "id": "D-mpZMp0eVYP"
      },
      "source": [
        "Cree una función que cuente el número de veces que la palabra \"perro\" en el ***string*** que ingresa como input. No debe ser sensible al uso de mayúsculas"
      ]
    },
    {
      "cell_type": "code",
      "execution_count": null,
      "metadata": {
        "id": "8mWi2ljYeDrl"
      },
      "outputs": [],
      "source": []
    },
    {
      "cell_type": "code",
      "execution_count": null,
      "metadata": {
        "colab": {
          "base_uri": "https://localhost:8080/"
        },
        "id": "gyOgCweafAOH",
        "outputId": "43bb8660-d439-4d1b-e1b0-fdd00cf9368a"
      },
      "outputs": [
        {
          "data": {
            "text/plain": [
              "1"
            ]
          },
          "execution_count": 40,
          "metadata": {},
          "output_type": "execute_result"
        }
      ],
      "source": []
    },
    {
      "cell_type": "code",
      "execution_count": null,
      "metadata": {
        "colab": {
          "base_uri": "https://localhost:8080/"
        },
        "id": "9uZ5_LyrfBjN",
        "outputId": "085d024e-c8b6-4f1e-922b-fb638b60b75d"
      },
      "outputs": [
        {
          "data": {
            "text/plain": [
              "2"
            ]
          },
          "execution_count": 41,
          "metadata": {},
          "output_type": "execute_result"
        }
      ],
      "source": []
    },
    {
      "cell_type": "markdown",
      "metadata": {
        "id": "qoeckhBOPslu"
      },
      "source": [
        "Declare una función en forma de ***lambda*** que determine si la última letra de un ***string*** es \"s\""
      ]
    },
    {
      "cell_type": "code",
      "execution_count": null,
      "metadata": {
        "id": "B5R4QvOrQRI9"
      },
      "outputs": [],
      "source": []
    },
    {
      "cell_type": "code",
      "execution_count": null,
      "metadata": {
        "colab": {
          "base_uri": "https://localhost:8080/"
        },
        "id": "8HAYv9MoQScN",
        "outputId": "fa33532d-1755-4c32-d9d7-817d1806d6bb"
      },
      "outputs": [
        {
          "data": {
            "text/plain": [
              "True"
            ]
          },
          "execution_count": 43,
          "metadata": {},
          "output_type": "execute_result"
        }
      ],
      "source": []
    },
    {
      "cell_type": "code",
      "execution_count": null,
      "metadata": {
        "colab": {
          "base_uri": "https://localhost:8080/"
        },
        "id": "09pl7GvqQdg9",
        "outputId": "edf86f2a-6fcb-4319-e958-79fee75b148e"
      },
      "outputs": [
        {
          "data": {
            "text/plain": [
              "False"
            ]
          },
          "execution_count": 44,
          "metadata": {},
          "output_type": "execute_result"
        }
      ],
      "source": []
    },
    {
      "cell_type": "markdown",
      "metadata": {
        "id": "cYMEDN6kQiyA"
      },
      "source": [
        "Aplique la función\n",
        "```\n",
        "filter\n",
        "```\n",
        "de Python, para filtrar la siguiente lista:\n",
        "\n",
        "\n",
        "```\n",
        "['perros', 'gato', 'aves', 'león', 'sapo', 'lagartos']\n",
        "```\n",
        "\n",
        "Aplicando la función que creo en el ejercicio anterios, para obtener:\n",
        "\n",
        "\n",
        "```\n",
        "['perros', 'aves', 'lagartos']\n",
        "```\n",
        "\n",
        "Pista: https://www.geeksforgeeks.org/lambda-filter-python-examples/\n",
        "\n",
        "\n",
        "\n",
        "\n"
      ]
    },
    {
      "cell_type": "code",
      "execution_count": null,
      "metadata": {
        "colab": {
          "base_uri": "https://localhost:8080/"
        },
        "id": "DIBltsOcQhOA",
        "outputId": "9e1efc56-91a6-46b5-ee69-f5ab32ca5470"
      },
      "outputs": [
        {
          "data": {
            "text/plain": [
              "['perros', 'aves', 'lagartos']"
            ]
          },
          "execution_count": 46,
          "metadata": {},
          "output_type": "execute_result"
        }
      ],
      "source": []
    }
  ],
  "metadata": {
    "colab": {
      "provenance": []
    },
    "kernelspec": {
      "display_name": "Python 3",
      "name": "python3"
    },
    "language_info": {
      "name": "python"
    }
  },
  "nbformat": 4,
  "nbformat_minor": 0
}
